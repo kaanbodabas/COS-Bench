{
 "cells": [
  {
   "cell_type": "markdown",
   "metadata": {},
   "source": [
    "# Image Deblurring"
   ]
  },
  {
   "cell_type": "markdown",
   "metadata": {},
   "source": [
    "$$\\begin{align*}\n",
    "\\text{minimize} \\quad & ||Ay - x||_2^2 + \\rho ||y||_1 \\\\\n",
    "\\text{subject to} \\quad & 0 \\leq y \\leq 1\n",
    "\\end{align*}$$\n",
    "\n",
    "where $x \\in \\mathbb{R}^n$ is the blurry image and $y \\in \\mathbb{R}^n$ is the original image. $A \\in \\mathbb{R}^{n \\times n}$ is a Gaussian blur operator and $\\rho \\in \\mathbb{R_{++}}$ is a regularizer coefficient."
   ]
  },
  {
   "cell_type": "markdown",
   "metadata": {},
   "source": [
    "We aim to format this problem such that it can be solved with CLARABEL:\n",
    "\n",
    "$$\\begin{align*}\n",
    "\\text{minimize} \\quad & \\frac{1}{2} y^TPy + q^Ty \\\\\n",
    "\\text{subject to} \\quad & Dy + s = b \\\\\n",
    "\\quad & s \\in K\n",
    "\\end{align*}$$\n",
    "\n",
    "with $y \\in \\mathbb{R}^n$, $s \\in \\mathbb{R}^m$, $P = P^T \\succeq 0$, $q \\in \\mathbb{R}^n, D \\in \\mathbb{R}^{m \\times n}$, and $b \\in \\mathbb{R}^m$. $K$ is a composition of convex cones."
   ]
  },
  {
   "cell_type": "markdown",
   "metadata": {},
   "source": [
    "We reformulate as follows:\n",
    "\n",
    "$||Ay - x||_2^2 = (Ay - x)^T(Ay - x) = y^TA^TAy - 2x^TAy + x^Tx$\n",
    "\n",
    "$\\rho||y||_1$ = $\\rho \\mathbf{1}^Ty$, since $y$ is nonnegative.\n",
    "\n",
    "Now if we rewrite our problem, we get:\n",
    "$$\\begin{align*}\n",
    "\\text{minimize} \\quad & y^TA^TAy - 2(A^Tx)^Ty + x^Tx + \\rho \\mathbf{1}^Ty \\\\\n",
    "\\text{subject to} \\quad & 0 \\leq y \\leq 1\n",
    "\\end{align*}$$\n",
    "\n",
    "We can remove $x^Tx$ from the objective, since $x$ is not a decision variable, and can manually add it back after solving. We set $P = 2A^TA = 2(A^TA)^T$, $q = -2A^Tx + \\rho \\mathbf{1}_n$, $D = \\begin{bmatrix} I_n \\\\ -I_n \\end{bmatrix}$, $b = \\begin{bmatrix} \\mathbf{1}_n \\\\ \\vec{0}_n \\end{bmatrix}$, and $K = \\mathbb{R}^{2n}_{\\geq 0}$. Note $P \\succeq 0$ since $y^TPy = 2y^TA^TAy = 2||Ay||_2^2 \\geq 0$."
   ]
  }
 ],
 "metadata": {
  "language_info": {
   "name": "python"
  }
 },
 "nbformat": 4,
 "nbformat_minor": 2
}
