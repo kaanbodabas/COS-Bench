{
 "cells": [
  {
   "cell_type": "markdown",
   "metadata": {},
   "source": [
    "# Portfolio Allocation with Loss Risk Constraint"
   ]
  },
  {
   "cell_type": "markdown",
   "metadata": {},
   "source": [
    "$$\\begin{align*}\n",
    "\\text{maximize} \\quad & \\mu^Tx \\\\\n",
    "\\text{subject to} \\quad & \\mu^Tx - \\sqrt{(1/2)\\ln(1/\\eta)}||diag(u - l)x||_2 \\geq \\alpha \\\\\n",
    "\\quad & \\mathbf{1}^Tx = 1 \\\\\n",
    "\\quad & x \\geq 0 \\\\\n",
    "\\end{align*}$$\n",
    "\n",
    "where $x \\in \\mathbb{R}^n$ are the asset allocations and $l, u \\in \\mathbb{R}^n$ are the uncertainties of the returns with mean $\\mu \\in \\mathbb{R}^n$. The constant $\\alpha$ sets the unwanted return level and $\\eta$ upper bounds the probability of achieving return below the set level."
   ]
  },
  {
   "cell_type": "markdown",
   "metadata": {},
   "source": [
    "We aim to format this problem such that it can be solved with Clarabel:\n",
    "\n",
    "$$\\begin{align*}\n",
    "\\text{minimize} \\quad & \\frac{1}{2} y^TPy + q^Ty \\\\\n",
    "\\text{subject to} \\quad & Dy + s = b \\\\\n",
    "\\quad & s \\in K\n",
    "\\end{align*}$$\n",
    "\n",
    "with $y \\in \\mathbb{R}^n$, $s \\in \\mathbb{R}^m$, $P = P^T \\succeq 0$, $q \\in \\mathbb{R}^n, D \\in \\mathbb{R}^{m \\times n}$, and $b \\in \\mathbb{R}^m$. $K$ is a composition of convex cones."
   ]
  },
  {
   "cell_type": "markdown",
   "metadata": {},
   "source": [
    "We stack $x$ and $l$ from the original form and set $P = 0_{n \\times n}$, $q = -\\mu$, $D = -\\begin{bmatrix} \\mathbf{1}^T \\\\ I_n \\\\ \\mu^T \\\\ \\sqrt{(1/2)\\ln(1/\\eta)}diag(u - l) \\end{bmatrix}$, $b = \\begin{bmatrix} -1 \\\\ \\vec{0}_n \\\\ -\\alpha \\\\ \\vec{0}_n \\end{bmatrix}$, and $K = \\{0\\} \\times \\mathbb{R}_{\\geq 0}^n \\times K_{SOC}^{n + 1}$."
   ]
  }
 ],
 "metadata": {
  "language_info": {
   "name": "python"
  }
 },
 "nbformat": 4,
 "nbformat_minor": 2
}
