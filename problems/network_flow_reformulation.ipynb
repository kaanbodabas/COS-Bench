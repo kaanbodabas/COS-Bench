{
 "cells": [
  {
   "cell_type": "markdown",
   "metadata": {},
   "source": [
    "# Minimum Cost Network Flow"
   ]
  },
  {
   "cell_type": "markdown",
   "metadata": {},
   "source": [
    "$$\\begin{align*}\n",
    "\\text{minimize} \\quad & c^Ty \\\\\n",
    "\\text{subject to} \\quad & Ay = t \\\\\n",
    "\\quad & 0 \\leq y \\leq u\n",
    "\\end{align*}$$\n",
    "\n",
    "where $y \\in \\mathbb{R}^n$ is the flow, $c \\in \\mathbb{R}^n$ contains the edge costs, $u \\in \\mathbb{R}^n$ contains the edge capacities, $A \\in \\mathbb{R}^{d \\times n}$ is the incidence matrix of the network, and $t \\in \\mathbb{R}^d$ contains the supply (+) or demand (-) for each node."
   ]
  },
  {
   "cell_type": "markdown",
   "metadata": {},
   "source": [
    "We aim to format this problem such that it can be solved with CLARABEL:\n",
    "\n",
    "$$\\begin{align*}\n",
    "\\text{minimize} \\quad & \\frac{1}{2} y^TPy + q^Ty \\\\\n",
    "\\text{subject to} \\quad & Dy + s = b \\\\\n",
    "\\quad & s \\in K\n",
    "\\end{align*}$$\n",
    "\n",
    "with $y \\in \\mathbb{R}^n$, $s \\in \\mathbb{R}^m$, $P = P^T \\succeq 0$, $q \\in \\mathbb{R}^n, D \\in \\mathbb{R}^{m \\times n}$, and $b \\in \\mathbb{R}^m$. $K$ is a composition of convex cones."
   ]
  },
  {
   "cell_type": "markdown",
   "metadata": {},
   "source": [
    "We set $P = 0_{n \\times n}$, $q = c$, $D = \\begin{bmatrix} A \\\\ -I_n \\\\ I_n \\end{bmatrix}$, $b = \\begin{bmatrix} t \\\\ \\vec{0}_n \\\\ u \\end{bmatrix}$, and $K = \\{0\\}^d \\times \\mathbb{R}_{\\geq 0}^{2n}$."
   ]
  }
 ],
 "metadata": {
  "language_info": {
   "name": "python"
  }
 },
 "nbformat": 4,
 "nbformat_minor": 2
}
