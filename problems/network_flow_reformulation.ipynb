{
 "cells": [
  {
   "cell_type": "markdown",
   "metadata": {},
   "source": [
    "# Minimum Cost Network Flow"
   ]
  },
  {
   "cell_type": "markdown",
   "metadata": {},
   "source": [
    "$$\\begin{align*}\n",
    "\\text{minimize} \\quad & c^Tx \\\\\n",
    "\\text{subject to} \\quad & Ax = t \\\\\n",
    "\\quad & 0 \\leq x \\leq u\n",
    "\\end{align*}$$\n",
    "\n",
    "where $x \\in \\mathbb{R}^n$ is the flow, $c \\in \\mathbb{R}^n$ contains the edge costs, $u \\in \\mathbb{R}^n$ contains the edge capacities, $A \\in \\mathbb{R}^{m \\times n}$ is the incidence matrix of the network, and $t \\in \\mathbb{R}^m$ contains the supply (+) or demand (-) for each node."
   ]
  },
  {
   "cell_type": "markdown",
   "metadata": {},
   "source": [
    "We aim to format this problem such that it can be solved with Clarabel:\n",
    "\n",
    "$$\\begin{align*}\n",
    "\\text{minimize} \\quad & \\frac{1}{2} x^TPx + q^Tx \\\\\n",
    "\\text{subject to} \\quad & Dx + s = b \\\\\n",
    "\\quad & s \\in K\n",
    "\\end{align*}$$\n",
    "\n",
    "with $x \\in \\mathbf{R}^n$, $s \\in \\mathbf{R}^m$, $P = P^T \\succeq 0$, $q \\in \\mathbf{R}^n, D \\in \\mathbf{R}^{m \\times n}$, and $b \\in \\mathbf{R}^m$. $K$ is a composition of convex cones."
   ]
  },
  {
   "cell_type": "markdown",
   "metadata": {},
   "source": [
    "We set $P = 0_{n \\times n}$, $q = c$, $D = \\begin{bmatrix} A \\\\ -I_n \\\\ I_n \\end{bmatrix}$, $b = \\begin{bmatrix} t \\\\ \\vec{0}_n \\\\ u \\end{bmatrix}$, and $K = \\{0\\}^n \\times \\mathbb{R}_{\\geq 0}^{2n}$."
   ]
  }
 ],
 "metadata": {
  "language_info": {
   "name": "python"
  }
 },
 "nbformat": 4,
 "nbformat_minor": 2
}
