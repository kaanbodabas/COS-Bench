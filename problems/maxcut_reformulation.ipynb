{
 "cells": [
  {
   "cell_type": "markdown",
   "metadata": {},
   "source": [
    "# Maxcut SDP Relaxation"
   ]
  },
  {
   "cell_type": "markdown",
   "metadata": {},
   "source": [
    "$$\\begin{align*}\n",
    "\\text{maximize} \\quad & Tr(CY) \\\\\n",
    "\\text{subject to} \\quad & Y_{ii} = 1 \\quad \\forall i \\in [1, d]\\\\ \n",
    "\\quad & Y \\succeq 0 \\\\\n",
    "\\end{align*}$$\n",
    "\n",
    "where $C, Y \\in \\mathbb{S}^{d \\times d}$ are the Laplacian matrix and the max-cut, respectively."
   ]
  },
  {
   "cell_type": "markdown",
   "metadata": {},
   "source": [
    "We aim to format this problem such that it can be solved with Clarabel:\n",
    "\n",
    "$$\\begin{align*}\n",
    "\\text{minimize} \\quad & \\frac{1}{2} y^TPy + q^Ty \\\\\n",
    "\\text{subject to} \\quad & Dy + s = b \\\\\n",
    "\\quad & s \\in K\n",
    "\\end{align*}$$\n",
    "\n",
    "with $y \\in \\mathbb{R}^n$, $s \\in \\mathbb{R}^m$, $P = P^T \\succeq 0$, $q \\in \\mathbb{R}^n, D \\in \\mathbb{R}^{m \\times n}$, and $b \\in \\mathbb{R}^m$. $K$ is a composition of convex cones."
   ]
  },
  {
   "cell_type": "markdown",
   "metadata": {},
   "source": [
    "To reformulate this, we must vectorize the matrices $C, Y$ by stacking the columns of just the upper triangular part. We also must preserve the inner product, so the off-diagonal elements must be scaled by $\\sqrt{2}$. These will be $vec(C), vec(Y)$. Call $n = \\frac{d(d + 1)}{2}$. We set $P = 0_{n \\times n}$, $q = -vec(C)$, $D = \\begin{bmatrix} A \\\\ B \\end{bmatrix}$ where $Ay = diag(Y)$ and $By = -vec(Y)$, $b = \\begin{bmatrix} \\mathbb{1}_d \\\\ \\vec{0}_n \\end{bmatrix}$, and $K = \\{0\\}^d \\times triu(\\mathbb{S}^d_+)$."
   ]
  }
 ],
 "metadata": {
  "kernelspec": {
   "display_name": ".optenv",
   "language": "python",
   "name": "python3"
  },
  "language_info": {
   "name": "python",
   "version": "3.10.11"
  }
 },
 "nbformat": 4,
 "nbformat_minor": 2
}
