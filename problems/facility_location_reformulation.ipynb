{
 "cells": [
  {
   "cell_type": "markdown",
   "metadata": {},
   "source": [
    "# Facility Location"
   ]
  },
  {
   "cell_type": "markdown",
   "metadata": {},
   "source": [
    "$$\\begin{align*}\n",
    "\\text{minimize} \\quad & \\mathbf{1}^Tx \\\\\n",
    "\\text{subject to} \\quad & ||v_i - l||_2 \\leq x_i \\quad \\forall i \\in [1, f] \\\\\n",
    "\\end{align*}$$\n",
    "\n",
    "where $l \\in \\mathbb{R}^d$ is the facility location and $v_i \\in \\mathbb{R}^d$ are the customer locations."
   ]
  },
  {
   "cell_type": "markdown",
   "metadata": {},
   "source": [
    "We aim to format this problem such that it can be solved with Clarabel:\n",
    "\n",
    "$$\\begin{align*}\n",
    "\\text{minimize} \\quad & \\frac{1}{2} y^TPy + q^Ty \\\\\n",
    "\\text{subject to} \\quad & Dy + s = b \\\\\n",
    "\\quad & s \\in K\n",
    "\\end{align*}$$\n",
    "\n",
    "with $y \\in \\mathbb{R}^n$, $s \\in \\mathbb{R}^m$, $P = P^T \\succeq 0$, $q \\in \\mathbb{R}^n, D \\in \\mathbb{R}^{m \\times n}$, and $b \\in \\mathbb{R}^m$. $K$ is a composition of convex cones."
   ]
  },
  {
   "cell_type": "markdown",
   "metadata": {},
   "source": [
    "We stack $x$ and $l$ from the original form and set $P = 0_{(f + d) \\times (f + d)}$, $q = \\begin{bmatrix} \\mathbf{1}_f \\\\ \\vec{0}_d \\end{bmatrix}$, $D$ such that $Dy = \\begin{bmatrix} -x_1 \\\\ l \\\\ -x_2 \\\\ l \\\\ \\vdots \\\\ -x_f \\\\ l \\end{bmatrix}$, $b = \\begin{bmatrix} 0 \\\\ v_1 \\\\ 0 \\\\ v_2 \\\\ \\vdots \\\\ 0 \\\\ v_f \\end{bmatrix}$, and $K = K^{SOC(d + 1)}_{1} \\times ... \\times K^{SOC(d + 1)}_{f}$."
   ]
  }
 ],
 "metadata": {
  "language_info": {
   "name": "python"
  }
 },
 "nbformat": 4,
 "nbformat_minor": 2
}
