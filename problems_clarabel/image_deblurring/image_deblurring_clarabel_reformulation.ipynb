{
 "cells": [
  {
   "cell_type": "markdown",
   "metadata": {},
   "source": [
    "# Image Deblurring"
   ]
  },
  {
   "cell_type": "markdown",
   "metadata": {},
   "source": [
    "https://arxiv.org/pdf/2404.13831\n",
    "\n",
    "https://clarabel.org/stable/"
   ]
  },
  {
   "cell_type": "markdown",
   "metadata": {},
   "source": [
    "$$\\begin{align*}\n",
    "\\text{minimize} \\quad & ||Ay - x||_2^2 + \\rho ||y||_1 \\\\\n",
    "\\text{subject to} \\quad & 0 \\leq y \\leq 1\n",
    "\\end{align*}$$\n",
    "\n",
    "where $x \\in \\mathbf{R}^n$ is the blurry image and $y \\in \\mathbf{R}^n$ is the original image. $A \\in \\mathbf{R}^{nxn}$ is a Gaussian blur operator and $\\rho \\in \\mathbf{R_{++}}$ is a regularizer coefficient."
   ]
  },
  {
   "cell_type": "markdown",
   "metadata": {},
   "source": [
    "We aim to format this problem such that it can be solved with Clarabel:\n",
    "\n",
    "$$\\begin{align*}\n",
    "\\text{minimize} \\quad & \\frac{1}{2} y^TPy + q^Ty \\\\\n",
    "\\text{subject to} \\quad & Dy + s = b \\\\\n",
    "\\quad & s \\in K\n",
    "\\end{align*}$$\n",
    "\n",
    "with $y \\in \\mathbf{R}^n$, $s \\in \\mathbf{R}^m$, $P = P^T \\succeq 0$, $q \\in \\mathbf{R}^n, D \\in \\mathbf{R}^{mxn}$, and $b \\in \\mathbf{R}^m$. $K$ is a composition of convex cones."
   ]
  },
  {
   "cell_type": "markdown",
   "metadata": {},
   "source": [
    "We reformulate as follows:\n",
    "\n",
    "$||Ay - x||_2^2 = (Ay - x)^T(Ay - x) = y^TA^TAy - 2x^TAy + x^Tx$\n",
    "\n",
    "$\\rho||y||_1$ = $\\rho \\mathbf{1}^Ty$, since $y$ is nonnegative.\n",
    "\n",
    "Now if we rewrite our problem, we get:\n",
    "$$\\begin{align*}\n",
    "\\text{minimize} \\quad & y^TA^TAy - 2(A^Tx)^Ty + x^Tx + \\rho \\mathbf{1}^Ty \\\\\n",
    "\\text{subject to} \\quad & 0 \\leq y \\leq 1\n",
    "\\end{align*}$$\n",
    "\n",
    "We can remove $x^Tx$ from the objective, since $x$ is not a decision variable, and can manually add it back after solving. We can finally write:\n",
    "\n",
    "$$\\begin{align*}\n",
    "\\text{minimize} \\quad & \\frac{1}{2}y^TPy + q^Ty \\\\\n",
    "\\text{subject to} \\quad & Dy + s = b \\\\\n",
    "\\quad & s \\in K\n",
    "\\end{align*}$$\n",
    "\n",
    "with $P = 2A^TA = 2(A^TA)^T$, $q = -2A^Tx + \\rho \\mathbf{1}$, $D = \\begin{bmatrix} I_n \\\\ -I_n \\end{bmatrix}$, $b = \\begin{bmatrix} \\mathbf{1}_n \\\\ \\vec{0}_n \\end{bmatrix}$, and $s \\in K = \\mathbf{R}^{2n}_{\\geq 0}$. Note $P \\succeq 0$ since $y^TPy = 2y^TA^TAy = 2||Ay||_2^2 \\geq 0$."
   ]
  }
 ],
 "metadata": {
  "language_info": {
   "name": "python"
  }
 },
 "nbformat": 4,
 "nbformat_minor": 2
}
